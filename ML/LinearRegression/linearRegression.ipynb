{
  "nbformat": 4,
  "nbformat_minor": 0,
  "metadata": {
    "colab": {
      "provenance": []
    },
    "kernelspec": {
      "name": "python3",
      "display_name": "Python 3"
    },
    "language_info": {
      "name": "python"
    }
  },
  "cells": [
    {
      "cell_type": "code",
      "execution_count": null,
      "metadata": {
        "id": "V-xyaK4J8rU1"
      },
      "outputs": [],
      "source": [
        "import csv\n",
        "import random\n",
        "import numpy as np"
      ]
    },
    {
      "cell_type": "markdown",
      "source": [
        "Creation of data"
      ],
      "metadata": {
        "id": "_n0Tpm8EE_4R"
      }
    },
    {
      "cell_type": "code",
      "source": [
        "# Create a 10x9 matrix with random values between 1 and 100\n",
        "data = np.random.randint(1, 101, size=(10, 9))"
      ],
      "metadata": {
        "id": "uiQSMIzn84Yj"
      },
      "execution_count": null,
      "outputs": []
    },
    {
      "cell_type": "code",
      "source": [
        "# Create random weights\n",
        "weights = np.random.rand(9)"
      ],
      "metadata": {
        "id": "ijf_isjF8782"
      },
      "execution_count": null,
      "outputs": []
    },
    {
      "cell_type": "code",
      "source": [
        "# Calculate the last column as a linear combination of the other columns\n",
        "last_column = np.dot(data, weights)"
      ],
      "metadata": {
        "id": "YCAhkYLC8-aZ"
      },
      "execution_count": null,
      "outputs": []
    },
    {
      "cell_type": "code",
      "source": [
        "# Add the last column to the data\n",
        "data = np.column_stack((data, last_column))"
      ],
      "metadata": {
        "id": "bRgRmHBM9AfD"
      },
      "execution_count": null,
      "outputs": []
    },
    {
      "cell_type": "code",
      "source": [
        "# Write the data to a CSV file\n",
        "with open('linear_regression_data.csv', 'w', newline='') as file:\n",
        "    writer = csv.writer(file)\n",
        "    writer.writerows(data)"
      ],
      "metadata": {
        "id": "Q7jgCUnH9DAw"
      },
      "execution_count": null,
      "outputs": []
    },
    {
      "cell_type": "code",
      "source": [
        "print(\"CSV file 'linear_regression_data.csv' with linear regression data has been created.\")\n",
        "print(weights)"
      ],
      "metadata": {
        "colab": {
          "base_uri": "https://localhost:8080/"
        },
        "id": "57is1QtN9Eki",
        "outputId": "6ae6beb6-f913-41ac-a516-e20767b40547"
      },
      "execution_count": null,
      "outputs": [
        {
          "output_type": "stream",
          "name": "stdout",
          "text": [
            "CSV file 'linear_regression_data.csv' with linear regression data has been created.\n",
            "[0.25898673 0.52988319 0.96062612 0.86282804 0.52380716 0.21911974\n",
            " 0.77928876 0.62658374 0.81519617]\n"
          ]
        }
      ]
    },
    {
      "cell_type": "markdown",
      "source": [
        "Linear Regression(9 Features)"
      ],
      "metadata": {
        "id": "osvVFBM6FMXj"
      }
    },
    {
      "cell_type": "code",
      "source": [
        "# Gradient Descent Algorithm\n",
        "def gradientDecent(X,Y,weights,bias,epochs,alpha,num):\n",
        "    for i in range(epochs):\n",
        "        prediction = X.dot(weights.T) + bias\n",
        "        prediction = np.asarray(prediction)\n",
        "        error = prediction - Y.T\n",
        "        error = np.asarray(error)\n",
        "        temp = np.divide(np.multiply(alpha,error.T.dot(X)),num)#to avoid error from numpy\n",
        "        weights = np.subtract(weights, temp)\n",
        "        bias = bias - (alpha * np.sum(error))/num\n",
        "    return weights,bias"
      ],
      "metadata": {
        "id": "FbEmw6PfFSeP"
      },
      "execution_count": 19,
      "outputs": []
    },
    {
      "cell_type": "code",
      "source": [
        "# Hyperparamenters\n",
        "alpha = 0.000001\n",
        "epochs = 10000\n"
      ],
      "metadata": {
        "id": "hf3e-1r4Fi9T"
      },
      "execution_count": 71,
      "outputs": []
    },
    {
      "cell_type": "code",
      "source": [
        "# Assigning random weights and bias\n",
        "weights = np.random.randint(1,100,(1,9))\n",
        "bias = np.random.randint(1,100)"
      ],
      "metadata": {
        "id": "v0KO82HQF5LN"
      },
      "execution_count": 72,
      "outputs": []
    },
    {
      "cell_type": "code",
      "source": [
        "# Load the data from the CSV file into a numpy array\n",
        "data = np.genfromtxt('linear_regression_data.csv', delimiter=',')\n",
        "Y = data[:,-1].copy()\n",
        "Y = Y.reshape(1,10)\n",
        "X = np.delete(data, -1, axis=1)"
      ],
      "metadata": {
        "id": "OmH5LN6DF_T5"
      },
      "execution_count": 15,
      "outputs": []
    },
    {
      "cell_type": "code",
      "source": [
        "X,Y"
      ],
      "metadata": {
        "colab": {
          "base_uri": "https://localhost:8080/"
        },
        "id": "SXeFgExfGNVZ",
        "outputId": "88305a98-0763-4637-e22b-1631ecf53fe4"
      },
      "execution_count": 73,
      "outputs": [
        {
          "output_type": "execute_result",
          "data": {
            "text/plain": [
              "(array([[38., 84.,  2., 90., 32., 66., 81.,  6., 56.],\n",
              "        [98., 83., 61., 49., 18., 63.,  7., 20.,  8.],\n",
              "        [90., 27., 15., 76.,  8., 38., 40., 18., 69.],\n",
              "        [69., 34., 66.,  4., 39., 25., 41., 27., 84.],\n",
              "        [86., 95., 78., 46., 96., 90.,  6., 44., 90.],\n",
              "        [49., 20., 92.,  7., 33., 14., 68., 32., 49.],\n",
              "        [56., 27., 13., 42., 21.,  8., 95., 62., 73.],\n",
              "        [66., 69., 27., 20., 21., 55., 37., 25., 14.],\n",
              "        [28., 43., 90., 90., 94., 89., 71., 80., 78.],\n",
              "        [63., 42., 57., 70., 18., 49., 26., 15.,  7.]]),\n",
              " array([[277.68406809, 217.97910861, 228.81557461, 245.99029936,\n",
              "         362.85002373, 251.04565296, 262.6798725 , 175.81108974,\n",
              "         431.92851124, 209.25694216]]))"
            ]
          },
          "metadata": {},
          "execution_count": 73
        }
      ]
    },
    {
      "cell_type": "code",
      "source": [
        "weights,bias = gradientDecent(X,Y,weights,bias,epochs,alpha,9)"
      ],
      "metadata": {
        "id": "_vGuRZPfGQ_i"
      },
      "execution_count": 86,
      "outputs": []
    },
    {
      "cell_type": "code",
      "source": [
        "weights,bias"
      ],
      "metadata": {
        "colab": {
          "base_uri": "https://localhost:8080/"
        },
        "id": "c8vZUWMAG4a0",
        "outputId": "d469dbb5-cb36-4338-9b6b-9b608839a4c7"
      },
      "execution_count": 87,
      "outputs": [
        {
          "output_type": "execute_result",
          "data": {
            "text/plain": [
              "(array([[ -7.38065149,   6.96218337,   5.45242821,   1.94047445,\n",
              "         -13.22647721,   0.70527009,  -4.08404607,   6.59377005,\n",
              "           7.51304124]]),\n",
              " 52.12187274910413)"
            ]
          },
          "metadata": {},
          "execution_count": 87
        }
      ]
    },
    {
      "cell_type": "code",
      "source": [
        "np.matmul(X[0],weights.T)+bias"
      ],
      "metadata": {
        "colab": {
          "base_uri": "https://localhost:8080/"
        },
        "id": "1dn1rzPLHPD9",
        "outputId": "3d389e68-7929-4460-817b-a0eeae8fe62a"
      },
      "execution_count": 88,
      "outputs": [
        {
          "output_type": "execute_result",
          "data": {
            "text/plain": [
              "array([294.81382932])"
            ]
          },
          "metadata": {},
          "execution_count": 88
        }
      ]
    },
    {
      "cell_type": "code",
      "source": [
        "X[0],weights.T"
      ],
      "metadata": {
        "colab": {
          "base_uri": "https://localhost:8080/"
        },
        "id": "3_Tf8zv_IoEW",
        "outputId": "28c3d549-b740-4b39-f4ec-7562daee64f9"
      },
      "execution_count": 89,
      "outputs": [
        {
          "output_type": "execute_result",
          "data": {
            "text/plain": [
              "(array([38., 84.,  2., 90., 32., 66., 81.,  6., 56.]),\n",
              " array([[ -7.38065149],\n",
              "        [  6.96218337],\n",
              "        [  5.45242821],\n",
              "        [  1.94047445],\n",
              "        [-13.22647721],\n",
              "        [  0.70527009],\n",
              "        [ -4.08404607],\n",
              "        [  6.59377005],\n",
              "        [  7.51304124]]))"
            ]
          },
          "metadata": {},
          "execution_count": 89
        }
      ]
    }
  ]
}