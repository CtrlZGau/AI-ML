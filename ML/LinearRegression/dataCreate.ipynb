{
  "nbformat": 4,
  "nbformat_minor": 0,
  "metadata": {
    "colab": {
      "provenance": []
    },
    "kernelspec": {
      "name": "python3",
      "display_name": "Python 3"
    },
    "language_info": {
      "name": "python"
    }
  },
  "cells": [
    {
      "cell_type": "code",
      "execution_count": 1,
      "metadata": {
        "id": "V-xyaK4J8rU1"
      },
      "outputs": [],
      "source": [
        "import csv\n",
        "import random\n",
        "import numpy as np"
      ]
    },
    {
      "cell_type": "code",
      "source": [
        "# Create a 10x9 matrix with random values between 1 and 100\n",
        "data = np.random.randint(1, 101, size=(10, 9))"
      ],
      "metadata": {
        "id": "uiQSMIzn84Yj"
      },
      "execution_count": 2,
      "outputs": []
    },
    {
      "cell_type": "code",
      "source": [
        "# Create random weights\n",
        "weights = np.random.rand(9)"
      ],
      "metadata": {
        "id": "ijf_isjF8782"
      },
      "execution_count": 3,
      "outputs": []
    },
    {
      "cell_type": "code",
      "source": [
        "# Calculate the last column as a linear combination of the other columns\n",
        "last_column = np.dot(data, weights)"
      ],
      "metadata": {
        "id": "YCAhkYLC8-aZ"
      },
      "execution_count": 4,
      "outputs": []
    },
    {
      "cell_type": "code",
      "source": [
        "# Add the last column to the data\n",
        "data = np.column_stack((data, last_column))"
      ],
      "metadata": {
        "id": "bRgRmHBM9AfD"
      },
      "execution_count": 5,
      "outputs": []
    },
    {
      "cell_type": "code",
      "source": [
        "# Write the data to a CSV file\n",
        "with open('linear_regression_data.csv', 'w', newline='') as file:\n",
        "    writer = csv.writer(file)\n",
        "    writer.writerows(data)"
      ],
      "metadata": {
        "id": "Q7jgCUnH9DAw"
      },
      "execution_count": 6,
      "outputs": []
    },
    {
      "cell_type": "code",
      "source": [
        "print(\"CSV file 'linear_regression_data.csv' with linear regression data has been created.\")\n",
        "print(weights)"
      ],
      "metadata": {
        "colab": {
          "base_uri": "https://localhost:8080/"
        },
        "id": "57is1QtN9Eki",
        "outputId": "6ae6beb6-f913-41ac-a516-e20767b40547"
      },
      "execution_count": 7,
      "outputs": [
        {
          "output_type": "stream",
          "name": "stdout",
          "text": [
            "CSV file 'linear_regression_data.csv' with linear regression data has been created.\n",
            "[0.25898673 0.52988319 0.96062612 0.86282804 0.52380716 0.21911974\n",
            " 0.77928876 0.62658374 0.81519617]\n"
          ]
        }
      ]
    }
  ]
}